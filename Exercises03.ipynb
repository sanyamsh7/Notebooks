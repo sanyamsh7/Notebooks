{
  "nbformat": 4,
  "nbformat_minor": 0,
  "metadata": {
    "colab": {
      "name": "Exercises03",
      "provenance": [],
      "collapsed_sections": [],
      "authorship_tag": "ABX9TyOLsnpT4pyFUjFyBv33OB5l",
      "include_colab_link": true
    },
    "kernelspec": {
      "name": "python3",
      "display_name": "Python 3"
    },
    "language_info": {
      "name": "python"
    }
  },
  "cells": [
    {
      "cell_type": "markdown",
      "metadata": {
        "id": "view-in-github",
        "colab_type": "text"
      },
      "source": [
        "<a href=\"https://colab.research.google.com/github/sanyamsh7/Notebooks/blob/main/Exercises03.ipynb\" target=\"_parent\"><img src=\"https://colab.research.google.com/assets/colab-badge.svg\" alt=\"Open In Colab\"/></a>"
      ]
    },
    {
      "cell_type": "code",
      "execution_count": 2,
      "metadata": {
        "id": "VDFdmBOL9L0G"
      },
      "outputs": [],
      "source": [
        "import numpy as np\n",
        "import pandas as pd\n",
        "\n",
        "\n",
        "df = pd.DataFrame({'years': [1, 2, 3, 4, 5, 6],\n",
        "                   'salary': [4000, 4250, 4500, 4750, 5000, 5250]})"
      ]
    },
    {
      "cell_type": "markdown",
      "source": [
        "**Normal Equation is an analytical approach to Linear Regression with a Least Square Cost Function.\n",
        "We can directly find out the value of θ without using Gradient Descent. Following this \n",
        "approach is an effective and time-saving option when are working with a dataset with small features**"
      ],
      "metadata": {
        "id": "0qH6d6DjlPKS"
      }
    },
    {
      "cell_type": "code",
      "source": [
        "m = len(df)\n",
        "m"
      ],
      "metadata": {
        "colab": {
          "base_uri": "https://localhost:8080/"
        },
        "id": "z6lxBgrhlcbB",
        "outputId": "948cbd27-12f7-4485-f57c-d2aed33874e5"
      },
      "execution_count": 4,
      "outputs": [
        {
          "output_type": "execute_result",
          "data": {
            "text/plain": [
              "6"
            ]
          },
          "metadata": {},
          "execution_count": 4
        }
      ]
    },
    {
      "cell_type": "code",
      "source": [
        "X1 = df['years'].values\n",
        "X1"
      ],
      "metadata": {
        "id": "sJcOuog59oxN",
        "colab": {
          "base_uri": "https://localhost:8080/"
        },
        "outputId": "99f589f8-da8b-4847-d6f4-93566abbfdcb"
      },
      "execution_count": 5,
      "outputs": [
        {
          "output_type": "execute_result",
          "data": {
            "text/plain": [
              "array([1, 2, 3, 4, 5, 6])"
            ]
          },
          "metadata": {},
          "execution_count": 5
        }
      ]
    },
    {
      "cell_type": "code",
      "source": [
        "Y = df['salary'].values\n",
        "Y"
      ],
      "metadata": {
        "colab": {
          "base_uri": "https://localhost:8080/"
        },
        "id": "7XM5-9CalxyW",
        "outputId": "7cd465b6-059f-4caa-cf03-7fab4007095e"
      },
      "execution_count": 7,
      "outputs": [
        {
          "output_type": "execute_result",
          "data": {
            "text/plain": [
              "array([4000, 4250, 4500, 4750, 5000, 5250])"
            ]
          },
          "metadata": {},
          "execution_count": 7
        }
      ]
    },
    {
      "cell_type": "code",
      "source": [
        "X1.reshape(m, 1)    # changed X1 to a column"
      ],
      "metadata": {
        "colab": {
          "base_uri": "https://localhost:8080/"
        },
        "id": "QabgORWPl4wN",
        "outputId": "d0519ef2-bbb9-44d7-9cf4-f87c3041d86c"
      },
      "execution_count": 8,
      "outputs": [
        {
          "output_type": "execute_result",
          "data": {
            "text/plain": [
              "array([[1],\n",
              "       [2],\n",
              "       [3],\n",
              "       [4],\n",
              "       [5],\n",
              "       [6]])"
            ]
          },
          "metadata": {},
          "execution_count": 8
        }
      ]
    },
    {
      "cell_type": "code",
      "source": [
        "X1 = X1.reshape(m, 1)"
      ],
      "metadata": {
        "id": "bF95AVvrmBwT"
      },
      "execution_count": 9,
      "outputs": []
    },
    {
      "cell_type": "code",
      "source": [
        "bias = np.ones((m, 1))    # 6x1"
      ],
      "metadata": {
        "id": "yzKS_87-l2wT"
      },
      "execution_count": 12,
      "outputs": []
    },
    {
      "cell_type": "code",
      "source": [
        "#np.append - used to merge two arrays and original remains same\n",
        "np.append(bias, X1, axis = 1)"
      ],
      "metadata": {
        "colab": {
          "base_uri": "https://localhost:8080/"
        },
        "id": "xRMUqK2nmYsU",
        "outputId": "48290b04-743d-4821-e054-5222160a1e3b"
      },
      "execution_count": 15,
      "outputs": [
        {
          "output_type": "execute_result",
          "data": {
            "text/plain": [
              "array([[1., 1.],\n",
              "       [1., 2.],\n",
              "       [1., 3.],\n",
              "       [1., 4.],\n",
              "       [1., 5.],\n",
              "       [1., 6.]])"
            ]
          },
          "metadata": {},
          "execution_count": 15
        }
      ]
    },
    {
      "cell_type": "code",
      "source": [
        "X = np.append(bias, X1, axis = 1)"
      ],
      "metadata": {
        "id": "IAE4MTWQmwFi"
      },
      "execution_count": 16,
      "outputs": []
    },
    {
      "cell_type": "markdown",
      "source": [
        "![image.png](data:image/png;base64,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)"
      ],
      "metadata": {
        "id": "-i5DDCK3m5ZH"
      }
    },
    {
      "cell_type": "code",
      "source": [
        "np.linalg.inv(np.dot(X.T, X))    # first inverse dot product"
      ],
      "metadata": {
        "colab": {
          "base_uri": "https://localhost:8080/"
        },
        "id": "vzEZ98e6m-Nw",
        "outputId": "b69e605f-559d-4446-e16e-e424b26568a0"
      },
      "execution_count": 18,
      "outputs": [
        {
          "output_type": "execute_result",
          "data": {
            "text/plain": [
              "array([[ 0.86666667, -0.2       ],\n",
              "       [-0.2       ,  0.05714286]])"
            ]
          },
          "metadata": {},
          "execution_count": 18
        }
      ]
    },
    {
      "cell_type": "code",
      "source": [
        " np.dot(X.T, Y)     # second dot product in the equation"
      ],
      "metadata": {
        "colab": {
          "base_uri": "https://localhost:8080/"
        },
        "id": "lj7-abmWmzdQ",
        "outputId": "ea50e329-9e6f-4931-b111-5292480b9f65"
      },
      "execution_count": 20,
      "outputs": [
        {
          "output_type": "execute_result",
          "data": {
            "text/plain": [
              "array([ 27750., 101500.])"
            ]
          },
          "metadata": {},
          "execution_count": 20
        }
      ]
    },
    {
      "cell_type": "code",
      "source": [
        "coefs  = np.dot(np.linalg.inv(np.dot(X.T, X)), np.dot(X.T, Y))\n",
        "coefs"
      ],
      "metadata": {
        "colab": {
          "base_uri": "https://localhost:8080/"
        },
        "id": "anHfDrEOnmeU",
        "outputId": "7df268ff-2a0e-4425-9f57-a6812e56e218"
      },
      "execution_count": 23,
      "outputs": [
        {
          "output_type": "execute_result",
          "data": {
            "text/plain": [
              "array([3750.,  250.])"
            ]
          },
          "metadata": {},
          "execution_count": 23
        }
      ]
    },
    {
      "cell_type": "code",
      "source": [
        "print(f'Linear regression: {coefs[0]:.2f} + {coefs[1]:.2f}x')\n"
      ],
      "metadata": {
        "colab": {
          "base_uri": "https://localhost:8080/"
        },
        "id": "g7UNQP6unvB8",
        "outputId": "fde72b00-e990-4164-f446-bb0430ffe470"
      },
      "execution_count": 25,
      "outputs": [
        {
          "output_type": "stream",
          "name": "stdout",
          "text": [
            "Linear regression: 3750.00 + 250.00x\n"
          ]
        }
      ]
    },
    {
      "cell_type": "code",
      "source": [
        "# NOW USING SCIKIT LEARN \n",
        "import numpy as np\n",
        "import pandas as pd\n",
        "from sklearn.linear_model import LinearRegression\n",
        "\n",
        "\n",
        "df = pd.DataFrame({'years': [1, 2, 3, 4, 5, 6],\n",
        "                   'salary': [4000, 4250, 4500, 4750, 5000, 5250]})\n",
        "\n",
        "lr  = LinearRegression()\n",
        "lr.fit(df[['years']], df[['salary']])\n",
        "print(\"Linear regression: {} + {}x\".format(lr.intercept_[0], lr.coef_[0][0]))"
      ],
      "metadata": {
        "colab": {
          "base_uri": "https://localhost:8080/"
        },
        "id": "i0LZb_sen4N_",
        "outputId": "43d12ad2-6435-43ab-d36d-b4f5f6ebda90"
      },
      "execution_count": 32,
      "outputs": [
        {
          "output_type": "stream",
          "name": "stdout",
          "text": [
            "Linear regression: 3750.0 + 250.0x\n"
          ]
        }
      ]
    }
  ]
}