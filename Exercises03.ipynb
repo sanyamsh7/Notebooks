{
  "nbformat": 4,
  "nbformat_minor": 0,
  "metadata": {
    "colab": {
      "name": "Exercises03",
      "provenance": [],
      "collapsed_sections": [],
      "authorship_tag": "ABX9TyOF9rie8uOyIVV/tcX71aWc",
      "include_colab_link": true
    },
    "kernelspec": {
      "name": "python3",
      "display_name": "Python 3"
    },
    "language_info": {
      "name": "python"
    }
  },
  "cells": [
    {
      "cell_type": "markdown",
      "metadata": {
        "id": "view-in-github",
        "colab_type": "text"
      },
      "source": [
        "<a href=\"https://colab.research.google.com/github/sanyamsh7/Notebooks/blob/main/Exercises03.ipynb\" target=\"_parent\"><img src=\"https://colab.research.google.com/assets/colab-badge.svg\" alt=\"Open In Colab\"/></a>"
      ]
    },
    {
      "cell_type": "code",
      "execution_count": null,
      "metadata": {
        "id": "VDFdmBOL9L0G"
      },
      "outputs": [],
      "source": [
        "import numpy as np\n",
        "import pandas as pd\n",
        "\n",
        "\n",
        "df = pd.DataFrame({'years': [1, 2, 3, 4, 5, 6],\n",
        "                   'salary': [4000, 4250, 4500, 4750, 5000, 5250]})"
      ]
    },
    {
      "cell_type": "markdown",
      "source": [
        "**Normal Equation is an analytical approach to Linear Regression with a Least Square Cost Function.\n",
        "We can directly find out the value of θ without using Gradient Descent. Following this \n",
        "approach is an effective and time-saving option when are working with a dataset with small features**"
      ],
      "metadata": {
        "id": "0qH6d6DjlPKS"
      }
    },
    {
      "cell_type": "code",
      "source": [
        "m = len(df)\n",
        "m"
      ],
      "metadata": {
        "colab": {
          "base_uri": "https://localhost:8080/"
        },
        "id": "z6lxBgrhlcbB",
        "outputId": "948cbd27-12f7-4485-f57c-d2aed33874e5"
      },
      "execution_count": null,
      "outputs": [
        {
          "output_type": "execute_result",
          "data": {
            "text/plain": [
              "6"
            ]
          },
          "metadata": {},
          "execution_count": 4
        }
      ]
    },
    {
      "cell_type": "code",
      "source": [
        "X1 = df['years'].values\n",
        "X1"
      ],
      "metadata": {
        "id": "sJcOuog59oxN",
        "colab": {
          "base_uri": "https://localhost:8080/"
        },
        "outputId": "99f589f8-da8b-4847-d6f4-93566abbfdcb"
      },
      "execution_count": null,
      "outputs": [
        {
          "output_type": "execute_result",
          "data": {
            "text/plain": [
              "array([1, 2, 3, 4, 5, 6])"
            ]
          },
          "metadata": {},
          "execution_count": 5
        }
      ]
    },
    {
      "cell_type": "code",
      "source": [
        "Y = df['salary'].values\n",
        "Y"
      ],
      "metadata": {
        "colab": {
          "base_uri": "https://localhost:8080/"
        },
        "id": "7XM5-9CalxyW",
        "outputId": "7cd465b6-059f-4caa-cf03-7fab4007095e"
      },
      "execution_count": null,
      "outputs": [
        {
          "output_type": "execute_result",
          "data": {
            "text/plain": [
              "array([4000, 4250, 4500, 4750, 5000, 5250])"
            ]
          },
          "metadata": {},
          "execution_count": 7
        }
      ]
    },
    {
      "cell_type": "code",
      "source": [
        "X1.reshape(m, 1)    # changed X1 to a column"
      ],
      "metadata": {
        "colab": {
          "base_uri": "https://localhost:8080/"
        },
        "id": "QabgORWPl4wN",
        "outputId": "d0519ef2-bbb9-44d7-9cf4-f87c3041d86c"
      },
      "execution_count": null,
      "outputs": [
        {
          "output_type": "execute_result",
          "data": {
            "text/plain": [
              "array([[1],\n",
              "       [2],\n",
              "       [3],\n",
              "       [4],\n",
              "       [5],\n",
              "       [6]])"
            ]
          },
          "metadata": {},
          "execution_count": 8
        }
      ]
    },
    {
      "cell_type": "code",
      "source": [
        "X1 = X1.reshape(m, 1)"
      ],
      "metadata": {
        "id": "bF95AVvrmBwT"
      },
      "execution_count": null,
      "outputs": []
    },
    {
      "cell_type": "code",
      "source": [
        "bias = np.ones((m, 1))    # 6x1"
      ],
      "metadata": {
        "id": "yzKS_87-l2wT"
      },
      "execution_count": null,
      "outputs": []
    },
    {
      "cell_type": "code",
      "source": [
        "#np.append - used to merge two arrays and original remains same\n",
        "np.append(bias, X1, axis = 1)"
      ],
      "metadata": {
        "colab": {
          "base_uri": "https://localhost:8080/"
        },
        "id": "xRMUqK2nmYsU",
        "outputId": "48290b04-743d-4821-e054-5222160a1e3b"
      },
      "execution_count": null,
      "outputs": [
        {
          "output_type": "execute_result",
          "data": {
            "text/plain": [
              "array([[1., 1.],\n",
              "       [1., 2.],\n",
              "       [1., 3.],\n",
              "       [1., 4.],\n",
              "       [1., 5.],\n",
              "       [1., 6.]])"
            ]
          },
          "metadata": {},
          "execution_count": 15
        }
      ]
    },
    {
      "cell_type": "code",
      "source": [
        "X = np.append(bias, X1, axis = 1)"
      ],
      "metadata": {
        "id": "IAE4MTWQmwFi"
      },
      "execution_count": null,
      "outputs": []
    },
    {
      "cell_type": "markdown",
      "source": [
        "![image.png](data:image/png;base64,iVBORw0KGgoAAAANSUhEUgAAAP0AAABYCAIAAACxhmb2AAAgAElEQVR4nO1deZAU5dl/+5ie6bnP3dkDdjlcQbIIKwgCKociXoUHGiyV8ohljBrMZ45SUxWxLMlXxlSRpDRWGUsgolGC4kEMJRFQFAnLioAu166LzO7s7Nx39/Tx/fH75v32U3aA3U0wbP/KsmaHnu63337e532O3/M0o+s6MWBghIE90wMwYOAMwJB7AyMRhtwbGIkw5N7ASIQh9wZGIgy5NzASYci9gZEIQ+4NjEQYcm9gJMKQewMjEYbcGxiJMOTewEgEf4rH/eWjF1/6x++Sufi/dDQGDAwRPkfgoWsfv+z8aysfxpwiH/PSx86RFWk4BmbAwL8WPkfgnV+2Vj7mVO0cQ+gN/Kcgluk76TGnaudQfPLfxwY1GAP/WmQyGZvNxrL/p8jy+bwoigzDKIrC8zwhhH4olUomk+mMjfVfhot+MfoUjzxtuTfw3YTD4SCEFAoFTdNsNhshxGQyKYpCCKGmLMMwmqYRQjiOO3Mj/U7AkPuzBKVSSZZlnudFUSSEpFIpQRDwWdM0VVVZlmVZVtd1hjlVp+4shhHHPHtgs9nMZrMkSYQQl8slimKhUCCEsCyby+Xy+TzDMCzLUq0/kmHI/VkCnufz+XyxWGQYhhASj8cJIbIsh8NhQgjLsrBtYPngmJEMQ+7PEsiybLVaLRYLdLzD4chmsy+88MKnn35aLBbtdrvFYiGE5PN5Ytj3htyfNeB5vre3lxDicrnefPNNn88XCAR++tOf9vb2Uu0O454QoqrqmRzrdwCG3J8l4Diuurpa07RYLHbdddclEonu7u577rnHbrebzWZCCEwgeLqyLJ/p8Z5hnM1yn8/n4cCpqirLMkxbTdPy+TwUnqIo2PeLxeLpnhxn0DQNl5AkCZfDCUk5eqhpmizLFfQrLt3d3Y0/0+m0pmk0/qgoSqlUouGXynEYXddZlvV6valUSlVVt9uNcL6qqqqqWiwWTdNg4ZjNZoh+NpvFREUiEXyAmYT/4xh8Pl3Qocqy/I3ppXckyzIugfmhF0qn0/g+k8ngT/rbVCpFyl7KUHA2y73ZbMaD5zhOEAR8LpVKVqv12WefDYfDPM8nEglCCGzf0wKeHIKDuJbVaoWRXSqV8vl8qVQihDAMw/N8BXvaYrF0dXXV1tZu2rSpvb3d4XCwLIvfFotFXddNJhNdOZlMRhsApVIpkUjE43GGYVwulyAI6XS6gsjC4LFarYqiWK3WqqoqLDNRFN9+++0jR47QtSqKYjKZPN35UVW1WCzmcjld17HhaJqGBWAymXRdT6fTmUwGs0ezCqqqKopis9kEQchkMps3bz527JjT6cxms5B+pCmGbqedtXIvy3L/CAagaZrZbF6/fr3dbnc6nYSQYDBIBqXSeJ7Hg0wmk/F4HE8OD5jneavVKggCnn3l4Imu6xjDeeedt27dOoZhUqmUKIrRaFQURY7jZFk2m82KonR3dzudTnYAmEwmr9frcrkkSaKxfJ/PV2H8hBCWZen8JJNJp9N5+PDhzs5Ol8vFcRzP86VSSdM0q9U6iPmxWCwIrSJnzDAM9hwkE5xOp9frxTCwHqAgdF2ny6Ourm7Dhg2krFYwYLqQhoKzVu4Bqg6LxaKmaSzLRqPRd999d+nSpVarNZfLfXttnDp0XbdYLG632+PxQG/JslwoFKDkcFrEyyvoJ4g1IaSxsXH8+PFr1qzBs/f7/fl8Pp/PY4GxLFtbW1t5PLIsRyIRrAGWZfHbgQ5mGAYrBLKYyWQwjPXr17e0tIwePVqSJJwql8sJgnC6k9PX14fdCX/yPA9rE8mEbDaLPQoi3l+LYzfIZDIWi2XmzJnxePy9994zmUy4F1VVhyXpdtbKPQRRkiSe5xmGKZVKmLjXX3990aJFoiiC0JLL5Uh53k8LkG+YoTg/9JAoina7nZQ3HAgTrnJCmM3mXC4HN+CKK67YvHlzqVRKp9OpVMpqtYqiCKt9zZo1Pp+PGRhz5849ePBgTU0Ny7KJRILnea/Xe+xYJTIV1azY7qxW6969e6PR6LRp0+g/EUI4jkMu7LQQCARgsxUKBQg0FjAhxOl02u12aARd10ulEs4PP4QQYrfbRVHEwTfddNPbb7+dy+Vg6yP1NjiXoz/OWrnHnGJLZRgGNKzu7u6dO3cuWLAA+oYQYrVaqSd6WhBF0el0UkUoy3IikVAUBZ4iVoKmaVBOsKlOCFVVBUHQdV0QBFmWx44du23bNpfL5XK5kskkzqbr+t133x2LxfSBsXXr1ubmZkVRVFV1OByFQqFQKIwePSBPC54utjtd17Hy//znP7e0tFgslmKx6HK5crkc3KFBzE8mk4GXYjabMUJCiMViicViWFEwxkRRhIKXZRnjwbzxPM+ybLFYbG5ujkajhw8fRiSKulWDGFJ/nLVyT8q6gZRlq1Qqbd261WazcRxnt9tdLlepVGIYhuO4Qdg5cPWy2SxCMTabzeFw8DzfX8ELgiBJUigUggQMBEVROI7L5/Ner7e5uXnTpk2SJPX09LjdbtjZMPrD4bAkScoAIIRIkiTLsiAIGIYgCBX0IhVETdOwer/44ovPP/98xowZkiRRIYM3OQh72uFwIJLDsiyMnGw2WywWfT4fCHMmk0kURVVVoR2o9aKqaqlUguJHGm7KlCkbN26Em4QjDft+QGCaKO2WZdlMJrNjx45AIODxeGBcmkymcDhMwz6nBbfbHY/Hn3rqqfHjxzMMIwgCeGBWq5VlWY/Hc//99x8/fhy+XQXSL8Q6k8kIgmCz2c4///x//OMfbW1tNTU1iqJIklQsFvP5vMvlCgaDkKETgvRz/qi0Iep3QrAsCwsegy8UCnv37jWZTPX19ZIk6bpeKBTsdrvNZqPmx2lBVdVVq1aNHj0a2sdkMjkcjkAggL13yZIlu3btwrQXCgWLxWI2m4vFIsx6s9msqioGz3Hc/Pnz161bd+zYsUKhgCU0dH7RWSv3mFOTyYQNXdd1SZK2bNkyadIkuImQlcFt4kAmk2lvb3/vvfd0Xd+zZ8/VV1+9YsUK+Grbt29fuHCh1WpVVRXm/kBQFMVisZhMJmp3NTU1vf/++7gFs9kMOaCOROUhZbPZeDxusVhg4Om63tXVRUNbmUyGOtySJJnN5u7uboZh4Ki0t7dXVVVZLBan00kzXLA9BsFryOVyPT09q1evjkQiiURi6dKlDz/8cCaTURSlo6NjypQpF154oaqqiBrhviwWC3W0BEFwuVz0g8fj2bZtmyiKiFMZds6AQBgHERVCSD6fP3jwoN1ub2hogEDgMEj/IPQHNPGKFSvmzJmjqmomk/n8888vvvhi2Kb19fVNTU1utxvqvEIIAv/E8zyMjerq6lmzZoVCIdAncQw8V3IyuY/H43a73ev1vvrqq9gEXn755UcffdTpdF599dWxWMzlclFvVRTFUqmEGJEgCAzDfPLJJ7Nnzz7deRgIfX19N9544/z58wOBQDwe7+zsHDduHCGE4ziv1ztjxgx8hpVVeX4CgcDEiRO7u7tLpdJwMYvOWrnHDo7/E0JUVW1rawsGgw0NDYQQSZIg64MuOzKbzcFgsLm5GSHw9vb2urq6xsZGbCZ1dXXnnHMOzZpVsBNMJlOxWMTywz4+efLkrVu3RiKR/gvmpHJfLBbhPcdise9///sw+iORCAImL7zwgtvtJoRgdSE1BocejsqBAwd27tzZ3Nw8uNn4Nnw+39y5c81mcz6fP3LkSCKRmD59Ovwcp9MJZUHKlKEKvAlZlt1u96RJk1pbW5PJJPXjhzi8s1buMaFU6E0m04EDB6qqqrCTyrIMue/vBpwunE5nsVjs7e2VJOnAgQNz587Fro3TOp1ORVFwlcr7MnQYEjqSJPl8vvb29uPHj5N+GxHOUEHuLRYLpMfj8TAME4/HE4mE3++H200TWIVCIZvNYpAul0uWZafTaTKZPvvsM6fTWV1dPYh5OCGwzKLRqK7r+/fv93g8TU1N0BEIH8FMp6phoPMgK1ddXb17924s0cpBglPEWSv3EAKoPUh5R0eHw+FAMIEK6KCVhyzL6XTaYrFYLJZcLrd///5Ro0bhYdMVBQeRVJRX1LwipmG327FgQF4g5VQOFjBlU54QiUQC/4oYTiAQsFgsmUymtrYWkW+ErSRJstvt/c0/fOjq6mpoaBgWkQJgB7rdbpvN1tbW1tzc7HA4+mcJeZ6XJAmzVEHv4HmJohgKhdLpNOy3odcPnLVyT1UIhCafz8fjca/XC1sWBdc4YNDBAWwdLpcrFAp99tln5557riAIkGA8WuoRVrgEpJkKoq7rHMfV1tZC33+7NHYgeDweeKIouUqn01Crvb292O6KxSLHcX6/n5QDXOl0GsH1WCyWz+ftdvsw1mHBieJ5PhQKtbW1XXrppTR7CPIF9bJOGkSGL6tpWk9PD90ihjq8oZ/iuwmqzqHaw+FwKpXyer2kzFsk5cD54OYRRLdQKEQI2b17d1VVVVNTEyEEMYr+6RU844HOQx0MiAXLsoIgeDweECT7C2JloaQMU0SBnE6n1WotFovV1dVut5thGDCFotFoOBzGshdFER9YlpVl2e/3V1VVDWIqBrovhKE++ugjWZZnzJhBs3hU4hGvrOxigUPqdrt9Pt/x48fhlw+CP/sNnLVyTwgB/4QQout6T09PKpVCvgMmJkwg6vieLhDDqaurUxRlz549N9544zcIcPRCyI5VHicOKBaLgiD4fD6v10sztac4Hpp5RZoTmX98GYvFSDli6/f7g8FgIpHI5/Pg3uBXx44ds1gsg+DhDATkEAghiUSioaGhpqamUCggJ03KWgnZWUEQKqh8xHmrqqqCwWAqlaLs7iEOb9jknqZIKAWAct8JIaVSCfdGwwj/akDTg8mo63p9fX06nUaDDYvFAnrwN+jHNEEDg5gQIkkS5I/eCFwrPFSr1ZpKpUKhEAiMdXV1hBCTyUS701itVoZhbDZbsViE2a2qKpjPIMAgqyAIAo4XRZEmXzmOy2azyC6BjHUqoSccg5A//RNObX+ZhlFE6fiEEKj/CvJEqxfog6bPMZFI0CIEfAO6WyaTSSaT27dvv/DCC2Fe4kKUDghln0qlqH0P8kL/CUdmA8+rUCjYbDaYTyedisoYNrlHlqFUKtnt9nw+v2TJElEUp0+fvmXLFkII5dOBKvhvqHPDQ4UZo+t6JBKprCTS6TTHcblcLhKJYHl0dXWZzWa73R6NRvP5PMdx8XgcniviErFYzGw2b9y48aOPPpowYYIgCD09Pel0GpaDJEnRaBQ7ssViEUXx448/5jjO4/Fks1kqBFQgcrkc4ph2ux10HVEUIcE8z9NCjeGaHwwSiwEcO7A5BjqeJjpcLpeqqiB+QtBBR81ms5DRaDSKxe9wOD744IPXXnutqalJEARq1eBfE4kEbEKXywVaXi6XM5lM8JHwT7IsY5zIVdFJG3rTq+G0cxAja21tnTx58g9+8INoNPrCCy+sWbOmo6OD0jAIISBkD+N1TwgoCRrF7+7urhy6cTqde/fudblcjY2N2BDefPNNFP7k8/mxY8f6fD5wS9588008v9bWVrfbvXz5cp7nr7zyyhtvvDEYDCKIjmyo3+8vlUq//OUvoa4WL17MMMzzzz8PCvSrr76K3YBhmKlTp7a1tcFRDoVCoijG4/H+PN7h4mP1nx96QlR1VM4K/fOf/5w6dSqIDDzP//CHPwQLKBqNXnTRRQzDVFVVCYLw2GOPwXXes2dPbW3t0qVLWZa99957J06cePjwYVJ2qUFbQG4bt4mFkUqlMOcYCeX20SAvDQ0PEcPWN4qaAXfdddeaNWtmzJgBHX/w4MGdO3eOGTMGTiTlzQ7XdQcCLkGTU5lMpnL8K5vNjh49Op/P33PPPS+//PLHH388btw4PIDRo0dv27bt+uuvf/LJJxctWhQIBBA5mTlzJnWzQA2IRqMcxzmdTgRVZFm22Ww///nPr7vuuiVLlowePfpvf/sbHGJN0+64445MJrNx48bly5dfe+21hJDe3l6z2exyuUCdB3EFuo2mdYdrfhRFodEnWKEQqYFEf/r06W1tbcuWLVu7du1zzz23bNmyvr4+r9dbKpX+/ve/33nnnY2Njb/61a+wkI4fP37++ed3d3erqsowTKFQYFlWFMV0Om2327EziKKI20FoMplMgoeHiI2u67lczm63YzWCWotqrMr1a6eIYdMfuq739fU9/fTTixcvnjNnjq7rX3/99aRJkwKBwNGjR7E34X6GJd92UtCIDSUeVpZ7u90O2vc111xDCNmzZ09VVZXf7xcEIRKJ/PrXv37rrbfuu+++MWPGwPpXFAX8tnA4DD9BUZRAIEBriKh94nA4mpqalixZsn///ra2NqQnHQ7HJ5980tXVtXbt2nnz5oGBiAdvt9v9fj+KpyhVuL/LNFygPG0Ednier+BfwsS66667GhoaEomE1Wqtqakxm801NTUPP/zwQw899Mwzz4DKVigU6uvrMe2wM202G5wHGHXIotBqNVwUpiNqU1DMAGsTFg7WBgzX71b8nuO4zz77bMOGDYsWLSKECIIwatSoo0ePglZKCKG7Ffm39C36hkng9XorX7RYLJpMJkmSFi5cOG/evB07dnR2dhJCOI574oknVq5cOX78+GPHjqmq6vf7JUmCOGazWVQJHj9+HCWh8Xg8Ho/jWaJQEKmoBQsWJJPJ9vZ26LZjx47t3LnzN7/5TU1Njd1uN5lM8MLh9oVCIarpST9+zjDCZDJRcxlVl5V5MoIgRKPROXPmzJs3b/369YcOHSKE5HK5Z5999r777rv44osJIUj3oi6E4zhshr29vZgW7IoIXkGaUa2GxB+S3xzHwSHGwBADIIRgX4LJOixKc9jkPhwO//Wvf73hhhtmzZoVi8Wi0SghJB6PHzhwYOzYsYiXqao6LIv1VEANAygSj8dTOZ6IzEgul+N5fsaMGe3t7ZIkFQqFRx55ZOXKlcFgEIYQbgRhop6eHqfTWSqVQqFQfX09NJnX63W73VjkUF2KouRyuQkTJtTX17e1tRUKhUgk8uqrr957772EkGw2WyqVcBh0Kmxf5DspEx3LbBinrv+pYJHC+qrwE7/fj24le/bsgS2+Zs2alpaWlpYWUu7QViwWkV7FOiGEVFdXY1rATrVYLKVSKRwO42ZxRZvNlkwmKXEVGTRN05xOJ1WXlHgCDvkQb3/Y5L69vX3Dhg1LliwpFApOp9Pv9/f29h48eDAUCl1wwQXwMunBw5gPHwjUb4NdgcYBlXl/LMsioev1evfv33/06NEnn3zynnvuQVpHFEWoJYZhYKHW1NT09fWh/DmVSkE5oSMxjDoai7DZbE6n84Ybbvj000937doFmx47EpQ9NnFaLQCDmOpjcFTIcPTPGGiuIFsV5B5MPlmWly5dSghZu3btG2+8MWnSpOnTpxNCVFVFThBVBBhqfX09Yp3hcBgzTwOyVVVVhULhxRdfvOWWW1566SVCiNvtzmQyjz/++N133x0KhXiej0QiMJMAUFZZlsUWOsRbHozcI4JLCTBQSB988EE2m120aJHVakUlaDAYvPPOOydOnIhosSzL2LgLhUKFOBRm6t5772UYBiEUhJYRBMCKb2howIfnnntuoPNAQdIuMbquX3jhhYcOHYK7iWNo2o/aLfhw5ZVXNjY2Ll++/MEHHxw/fjzaWnAchyeKWC1+GAgE8AEccUIIlgcCEahrwU98Pl9NTc2RI0def/31xx57zGw2459oXB/+HGquE4nEOeecQ4k0hUIB3ucg4nf0ZqmuQfE76UfpcbvdXq/30KFDtNAb6F8DhTpgs9kcCATOP//8tWvXNjU1XXLJJaD90DWjlZv/9C9vCAaDuJAgCEiidXR0zJ8//+677964cSMiV4QQlEl88cUXqqrm8/lgMEjrxcLh8N69eydPnoxvzgwfE25c/1R/X1/fvn37li1bBv4daihVVZ01a9aUKVPsdnt/OkDlh4fdcNWqVbqud3d3Hz9+XNf1aDSK3Q2uWFdXFzI+t99++0DngdbEdFdVVU2cONHhcLhcLrPZrGlaoVBAqRsONpvNhUIhnU4jhVRbW1tXVzd9+nTUfWKjoAsGwZyBkMvlXC6XyWQC0aCurg7bfW9v7+23355Kpaqrq/v6+gghjY2N9GyKomDG0H2E/P9S96EEwRCSh4VJylwXURQlSfJ4PJBajuOam5tra2t1XbdYLPl8HuYcwzDpdBqZDVRCwfleuHDhqFGj/H4/pLB/e6KTxi38fn88Hh83blxra2t7e/vUqVN3797tcDgymYzJZFqxYsWPfvSjQqFgtVqTySTUJYaNApST8rFPEact92hBQ8q0ctxhZ2fnvn37GhsbnU6npmn5fN5sNr/xxhvbt2+//PLLYRvAfDxpsg2hNNwYooGaptlsNkVRUJnPsmwqlYpEInRLPSFMJhNcQ9phK5FIHDhwAElQhC+QqMKjRd0tEjG///3vU6lUR0dHMpmkBEBaEkUq5o9EUQyHw4qiBINBXNTv96O7wR133NHS0oKAHdReIpGgfgjKHTmOO3z48OHDh0GVwTxQEvKgqaO03kAQBPjNOCc6q8G1aGtrQ/8Fq9WKtKiu606nExkJh8OBBbBu3br3339/y5Ythw4dQoHsN0ZVeYnSDheEkEAgMHbs2Gw2G41GsTN0d3dHo9Hm5uZ0Ou12u2lKobe3V9d11MqQ4YjnnrbcYxejYRmMoKur6+jRo9dee200GkUCP5lM7t69+6qrrpo9ezZ9bJQIUMFOxY3RWg00u4tEIul0GrGweDzucrlgIFbwE5DqI2WH1WazzZw5M5FIoJIVFyqVSrC8sVxRCPvUU0/NnTv3t7/97a5du1pbW+k2hfgDnnEFXhTLssFgELsEz/MOhwP1Hw899NDmzZvPPffcbdu2HThwwOfzKYqCcDUlz0E7dHR0yLKMSqhvyP1pPitCCAErBu5NMplEt4W6ujp0MUD3TBjcX331VSqVoqYFSMv4LElSIpHwer07duxwOBx/+tOffD5fZ2dnX18fdmDE/mmOvMJ4TCYTFpKqqjabbdSoUYjwgA/y1ltvLV68mJQr2amT093dXVdXV1NTg2EPYh6+gdOWewSScJ+0SjWZTE6YMKG6utrv90MBhMPhjRs3NjU1NTY20r2Pkmkr+2eapj344IMQGtj0kydPrq6uRlafGv1Wq/UPf/jDQCehs4MWNBzHLViw4Msvv8RzRWyHTmKhUIDt8cYbb0yZMuXSSy+1WCxz5szp6OhAQocydrDSKvcVBJWK9posFosvvfTSypUrk8nkkiVLWltb+/r6tHLbMGxuNKRDCMlmszNnzqypqSHlSryhbOuIn5Byegj3S4NFPM+jo9a8efMaGhpisRhMIEmSQChIpVIw6z0ez6effrp79+6bbrqpqalpwYIFu3fv9vl89LQ0DF+ZMo38NwKdWHKHDh3q7e11uVybN2+eOnXq2LFjjx8/bjaboew1TUun0729vRdddFFDQwNm/gz0z6FMOlpdoSiKzWYbM2YMdj28YWbLli3V1dX3338/KHiYi/4sqIHOjxj27373O13XEfTVdb29vR32uq7r2WwWaqavr2/58uUVzqPrOrxkSFUwGPzyyy+//vpr2Li4EcTaRVGsrq5+/vnni8XiVVdd1dPTM23atDFjxmzfvh2JXrqxwsKpwGMBPyefzyMgzfP8Y489tnjxYrvdzvP8JZdcMmHChI8//jgajUKlYVuDBsEPu7q6pk2bhvAIZozuOYNYAAzDpFKpbDaL7ik4IcLk0NCQ+9ra2oaGhgMHDsAdh+cD8gyMyQ8//HDTpk3Lly+XJAmhiw8++ODIkSOkTJjpr+YrqGSLxWK1WuFQFYvFxsZG9JBKpVK9vb3Tpk07duxYIBAAPwdGUTQa7ezsbG5uptHMM5OvhZNEdbaiKE1NTR0dHSzLJpNJr9fb1ta2atWqW2+9dfz48aRfrpFafhVcW2S26WHYasEGg7Nls9nS6TRaa1S+fzhDsE9MJhO0FGJkhBC0TYU4apr2xBNPTJgw4bbbbiuVSug6Nm3atIMHD+7atYsQQrmKJzWynU4nzauzLPvAAw8888wzEyZMQCy1UCi0tLR0dnZC3BOJBEwmaH2WZePxeFdXV3NzM6Stv6APbn+HVkIAil4ulUqhT5OmaW63G97FzJkzOzs7c7kc4oY07NvV1fXuu+8ePHjwiSeeQOUHwzC33HJLKBQ6fPgwmr3hFhBrJxV5RLBUYbWC+dzV1dXR0fH2229fe+21YIWYzWaO41AWQwiJxWKxWGzKlClonEjOiH1Pyns95VRyHDd+/PiWlpann34ataErVqx44IEHlixZggOYcscf8v8N1hOiPwFLURQcjy7b4NPCLLZarZQ+XgE8z4PaCmr7FVdc0dXVhXWFkLzZbN62bdvChQvtdvsFF1wQiUSwJpFyikQimzZt6uvro/xY2F2V49ygIbz++uvf+973brnlFjCKwXVzu92qqq5evfqdd97JZDJoXEzKPG1KVwbTi15l0B4tKXvM8FwRUF6zZk1NTc1rr72ml2u6Mbz58+f39vaikTLyd6qq7tmz55VXXnnppZduvvlmRVFqamowqs7OTlEUV61a1dfXR58CDH29Yj2kpmlI7eF4j8eTz+d37tx5zjnnuN1ulMURQlKpFD0GvTtnz57tcDiwEoZu5/xf4KkyZv58FP4b6ICOjo6bbrqJEHLZZZdt3boVWxIKTM8I8AB0XUc0Xdf1VCq1d+/eK6+8MhQK6bqeTqc///xzdBCA8D388MP4SSaTmTdvHimbGTzPP/LII7Cy0IKmMtatW9d/htetW6frejKZPHToEE5oMpkQ7N+9ezft/odRvfLKK8uWLdPKLcSGBaCK0GexevVqk8n02muvoS6HzlVPT8/ll1++bds2PLujR4/Onz+fUsduu+02dPJIJpM/+9t0B3sAAAYsSURBVNnPCCG4BUEQfvGLX3z99de6riO7rOt65fHTOSwUCtu2bfP5fC+++CIdKn1wxWIRhdErV658/PHH6U/0gZ/CSaWUYtjkHjdMQRmkZwqyLNMPGBv097Jly3bu3Ik8AwUSW7quo9OLruuIYePLfD6PD+l0GkfSk38biLjBLaEf8CX9E3VDFOFwGNmJaDR62223tbW1DaO+QKEPvTt8jkaj8JFoRgwJjb/85S+PPvqo3u/x4X4xNl3XERHSyxpNkqS+vj7MBlYXLlRhfvQy/RP1Bvv27Xv22WcxKuS/dF2nuRoM4K677mptbcU5MYEDidapy/2w8RTo1pbNZkGjZRiGhkH+/aDjob4Ez/OBQOD+++/fvHmzz+crFouxWAy7Nrhiuq6LokjTScVisVgs4gUkkiRlMhmE3khFUxtxd7PZjLQA9mV8WSqV8D210KDS0D0PzBb0zxnGej+e55EDJoR4PB7EQ1wul9/v18s1XLSZx4IFC2DkRKNRhmHi8bjNZovFYrIs+3w+XdeROUKgIplMlkolkHb6B/fgkg40HnQxQbvZYrH4xRdf3HzzzXCfwM4ghOBzNpuNxWI7duwIBoMtLS3w9GCzfYf4mJiOXC4Hhx1fDqUL3xBBY3YAFBghpLm5ORKJhEIhjuN8Ph9tK4AeHvgJiOPo5+F0OvHyAofD4Xa78Ugq14tFIhFFUZAWQPCeEJJKpUwmUzabBSnXYrEcPXqUZr7BNf/jH//4k5/8RO/Xg3vogLDa7XZ0ZsXIQfel5R1gShJCbDbbrFmzVq9ejaSb1+tNp9M+nw+FMn19fbBDwBlB98xMJpPL5WhWB+u5gv+GJQ0K4DvvvDN79myfzwdnGrFBjMfhcNjtdqvV+uGHH956662knyJD4eUQp2XY5B7MFpvNhvBINBqNx+MV9OK/AZT2zJZfvgAN99BDD23YsIE2qkaZLDJl0H+IyfA8D+8Wnh/0DSzOylSFqqoqPEJoJih7/ATfx+NxjuPQNw+Nmm0225YtW1wuFygoQ+/3SwF+NSm3EqKJcFrUC/8HB1ssluuvvx5vcKErBHdts9mQnAFzk74jzOFwoBE0LBM0aKiQn+np6Zk3b15bW9v69esvu+yy2tpauovSeDEGls/nd+zYUV9ff9555+FlBcrwvXx32OQeaXYUYiuKgsqJYawPGhzowuN5HrOpadq4ceNAFcQ3DMNg+6aMSERg4KUhGErfCki79Q50RQTaIB8IieBLLDxQ3LBZa5pGm9sQQtrb23/84x+DUDCMfGNQXGB5ol9nJpNB+xNMjtVqpbXRuMFrrrlm3759aPHn8Xhgt8D/pkll5ECQroHZg/uFiqkQZ+vu7mZZ9r333lu0aBH4al999RUp98/CMYhlhcPhUCi0dOlS9LoihCDXRmtxhoJTDZBd9Iv/fYPAJ/994ldopNNph8OBEWuahkkBcXeIQxwcqPTo5W45pNykCcnIVCrl8XhyuVwqlQIpAJkUiCY9Cf0tPLyTvhmFkueg4JGYpPQeALk8vtzXF16Qw+GIxWKI1ebz+eE1EdXy+y/odZESQpYKd4ocNrp6wIlEqgQkDtCrEokEOpt/+xLwgqh+qYyenh6ERPEUUqkU1l6hUECDif63n0gkEDvKZDK0OvGEOKmUUgybPqakC71ccsGy7CDenzNcoOJOKcFwv/TyWwM8Hg8eqs1mQ4QB796AeYPUKd4NoSgKHAB6cpSNn/C69KnTkiv8CcsYgtX/MeOiYP7g5StWq3UY90nsV+hUg24FCHCBWgzGL8r/6ItJMpkMynTQaxbDhlkP7xaLB4RWLHLoe9xs/0KZbwN6IRgM5nI5uDpgsCJIj8YTpFy/gmYWfr8fxEFsKTDYBvEKyv4YNn1vwMAZx6lL6dncL82AgYFgyL2BkQhD7g2MRBhyb2AkwpB7AyMRhtwbGIkw5N7ASIQh9wZGIgy5NzAScdr5cJoSM2DgPxenqu859gwzKw0YOEXYxZNTIU9V7pfOudsQfQPffQi8+QeX/ddJDxt8ob4BA/+5MPxaAyMRhtwbGIkw5N7ASIQh9wZGIgy5NzASYci9gZEIQ+4NjEQYcm9gJMKQewMjEYbcGxiJ+B8Bd90ojuq1mAAAAABJRU5ErkJggg==)"
      ],
      "metadata": {
        "id": "-i5DDCK3m5ZH"
      }
    },
    {
      "cell_type": "code",
      "source": [
        "np.linalg.inv(np.dot(X.T, X))    # first inverse dot product"
      ],
      "metadata": {
        "colab": {
          "base_uri": "https://localhost:8080/"
        },
        "id": "vzEZ98e6m-Nw",
        "outputId": "b69e605f-559d-4446-e16e-e424b26568a0"
      },
      "execution_count": null,
      "outputs": [
        {
          "output_type": "execute_result",
          "data": {
            "text/plain": [
              "array([[ 0.86666667, -0.2       ],\n",
              "       [-0.2       ,  0.05714286]])"
            ]
          },
          "metadata": {},
          "execution_count": 18
        }
      ]
    },
    {
      "cell_type": "code",
      "source": [
        " np.dot(X.T, Y)     # second dot product in the equation"
      ],
      "metadata": {
        "colab": {
          "base_uri": "https://localhost:8080/"
        },
        "id": "lj7-abmWmzdQ",
        "outputId": "ea50e329-9e6f-4931-b111-5292480b9f65"
      },
      "execution_count": null,
      "outputs": [
        {
          "output_type": "execute_result",
          "data": {
            "text/plain": [
              "array([ 27750., 101500.])"
            ]
          },
          "metadata": {},
          "execution_count": 20
        }
      ]
    },
    {
      "cell_type": "code",
      "source": [
        "coefs  = np.dot(np.linalg.inv(np.dot(X.T, X)), np.dot(X.T, Y))\n",
        "coefs"
      ],
      "metadata": {
        "colab": {
          "base_uri": "https://localhost:8080/"
        },
        "id": "anHfDrEOnmeU",
        "outputId": "7df268ff-2a0e-4425-9f57-a6812e56e218"
      },
      "execution_count": null,
      "outputs": [
        {
          "output_type": "execute_result",
          "data": {
            "text/plain": [
              "array([3750.,  250.])"
            ]
          },
          "metadata": {},
          "execution_count": 23
        }
      ]
    },
    {
      "cell_type": "code",
      "source": [
        "print(f'Linear regression: {coefs[0]:.2f} + {coefs[1]:.2f}x')\n"
      ],
      "metadata": {
        "colab": {
          "base_uri": "https://localhost:8080/"
        },
        "id": "g7UNQP6unvB8",
        "outputId": "fde72b00-e990-4164-f446-bb0430ffe470"
      },
      "execution_count": null,
      "outputs": [
        {
          "output_type": "stream",
          "name": "stdout",
          "text": [
            "Linear regression: 3750.00 + 250.00x\n"
          ]
        }
      ]
    },
    {
      "cell_type": "code",
      "source": [
        "# NOW USING SCIKIT LEARN \n",
        "import numpy as np\n",
        "import pandas as pd\n",
        "from sklearn.linear_model import LinearRegression\n",
        "\n",
        "\n",
        "df = pd.DataFrame({'years': [1, 2, 3, 4, 5, 6],\n",
        "                   'salary': [4000, 4250, 4500, 4750, 5000, 5250]})\n",
        "\n",
        "lr  = LinearRegression()\n",
        "lr.fit(df[['years']], df[['salary']])\n",
        "print(\"Linear regression: {} + {}x\".format(lr.intercept_[0], lr.coef_[0][0]))"
      ],
      "metadata": {
        "colab": {
          "base_uri": "https://localhost:8080/"
        },
        "id": "i0LZb_sen4N_",
        "outputId": "8c2f7c01-7b95-45be-ecdc-fc1d23829f0f"
      },
      "execution_count": null,
      "outputs": [
        {
          "output_type": "stream",
          "name": "stdout",
          "text": [
            "Linear regression: 3750.0 + 250.0x\n"
          ]
        }
      ]
    },
    {
      "cell_type": "code",
      "source": [
        "import numpy as np\n",
        "import pandas as pd\n",
        "\n",
        "\n",
        "np.random.seed(42)\n",
        "df = pd.DataFrame(data=np.random.randn(10), columns=['var1'])\n",
        "df"
      ],
      "metadata": {
        "colab": {
          "base_uri": "https://localhost:8080/",
          "height": 363
        },
        "id": "e9TGlnb8jG7I",
        "outputId": "796992c3-2c27-4ba8-b1a4-8932bc80eb7e"
      },
      "execution_count": null,
      "outputs": [
        {
          "output_type": "execute_result",
          "data": {
            "text/html": [
              "\n",
              "  <div id=\"df-c20b0251-dbed-4949-a7fe-9d59ff7f539d\">\n",
              "    <div class=\"colab-df-container\">\n",
              "      <div>\n",
              "<style scoped>\n",
              "    .dataframe tbody tr th:only-of-type {\n",
              "        vertical-align: middle;\n",
              "    }\n",
              "\n",
              "    .dataframe tbody tr th {\n",
              "        vertical-align: top;\n",
              "    }\n",
              "\n",
              "    .dataframe thead th {\n",
              "        text-align: right;\n",
              "    }\n",
              "</style>\n",
              "<table border=\"1\" class=\"dataframe\">\n",
              "  <thead>\n",
              "    <tr style=\"text-align: right;\">\n",
              "      <th></th>\n",
              "      <th>var1</th>\n",
              "    </tr>\n",
              "  </thead>\n",
              "  <tbody>\n",
              "    <tr>\n",
              "      <th>0</th>\n",
              "      <td>0.496714</td>\n",
              "    </tr>\n",
              "    <tr>\n",
              "      <th>1</th>\n",
              "      <td>-0.138264</td>\n",
              "    </tr>\n",
              "    <tr>\n",
              "      <th>2</th>\n",
              "      <td>0.647689</td>\n",
              "    </tr>\n",
              "    <tr>\n",
              "      <th>3</th>\n",
              "      <td>1.523030</td>\n",
              "    </tr>\n",
              "    <tr>\n",
              "      <th>4</th>\n",
              "      <td>-0.234153</td>\n",
              "    </tr>\n",
              "    <tr>\n",
              "      <th>5</th>\n",
              "      <td>-0.234137</td>\n",
              "    </tr>\n",
              "    <tr>\n",
              "      <th>6</th>\n",
              "      <td>1.579213</td>\n",
              "    </tr>\n",
              "    <tr>\n",
              "      <th>7</th>\n",
              "      <td>0.767435</td>\n",
              "    </tr>\n",
              "    <tr>\n",
              "      <th>8</th>\n",
              "      <td>-0.469474</td>\n",
              "    </tr>\n",
              "    <tr>\n",
              "      <th>9</th>\n",
              "      <td>0.542560</td>\n",
              "    </tr>\n",
              "  </tbody>\n",
              "</table>\n",
              "</div>\n",
              "      <button class=\"colab-df-convert\" onclick=\"convertToInteractive('df-c20b0251-dbed-4949-a7fe-9d59ff7f539d')\"\n",
              "              title=\"Convert this dataframe to an interactive table.\"\n",
              "              style=\"display:none;\">\n",
              "        \n",
              "  <svg xmlns=\"http://www.w3.org/2000/svg\" height=\"24px\"viewBox=\"0 0 24 24\"\n",
              "       width=\"24px\">\n",
              "    <path d=\"M0 0h24v24H0V0z\" fill=\"none\"/>\n",
              "    <path d=\"M18.56 5.44l.94 2.06.94-2.06 2.06-.94-2.06-.94-.94-2.06-.94 2.06-2.06.94zm-11 1L8.5 8.5l.94-2.06 2.06-.94-2.06-.94L8.5 2.5l-.94 2.06-2.06.94zm10 10l.94 2.06.94-2.06 2.06-.94-2.06-.94-.94-2.06-.94 2.06-2.06.94z\"/><path d=\"M17.41 7.96l-1.37-1.37c-.4-.4-.92-.59-1.43-.59-.52 0-1.04.2-1.43.59L10.3 9.45l-7.72 7.72c-.78.78-.78 2.05 0 2.83L4 21.41c.39.39.9.59 1.41.59.51 0 1.02-.2 1.41-.59l7.78-7.78 2.81-2.81c.8-.78.8-2.07 0-2.86zM5.41 20L4 18.59l7.72-7.72 1.47 1.35L5.41 20z\"/>\n",
              "  </svg>\n",
              "      </button>\n",
              "      \n",
              "  <style>\n",
              "    .colab-df-container {\n",
              "      display:flex;\n",
              "      flex-wrap:wrap;\n",
              "      gap: 12px;\n",
              "    }\n",
              "\n",
              "    .colab-df-convert {\n",
              "      background-color: #E8F0FE;\n",
              "      border: none;\n",
              "      border-radius: 50%;\n",
              "      cursor: pointer;\n",
              "      display: none;\n",
              "      fill: #1967D2;\n",
              "      height: 32px;\n",
              "      padding: 0 0 0 0;\n",
              "      width: 32px;\n",
              "    }\n",
              "\n",
              "    .colab-df-convert:hover {\n",
              "      background-color: #E2EBFA;\n",
              "      box-shadow: 0px 1px 2px rgba(60, 64, 67, 0.3), 0px 1px 3px 1px rgba(60, 64, 67, 0.15);\n",
              "      fill: #174EA6;\n",
              "    }\n",
              "\n",
              "    [theme=dark] .colab-df-convert {\n",
              "      background-color: #3B4455;\n",
              "      fill: #D2E3FC;\n",
              "    }\n",
              "\n",
              "    [theme=dark] .colab-df-convert:hover {\n",
              "      background-color: #434B5C;\n",
              "      box-shadow: 0px 1px 3px 1px rgba(0, 0, 0, 0.15);\n",
              "      filter: drop-shadow(0px 1px 2px rgba(0, 0, 0, 0.3));\n",
              "      fill: #FFFFFF;\n",
              "    }\n",
              "  </style>\n",
              "\n",
              "      <script>\n",
              "        const buttonEl =\n",
              "          document.querySelector('#df-c20b0251-dbed-4949-a7fe-9d59ff7f539d button.colab-df-convert');\n",
              "        buttonEl.style.display =\n",
              "          google.colab.kernel.accessAllowed ? 'block' : 'none';\n",
              "\n",
              "        async function convertToInteractive(key) {\n",
              "          const element = document.querySelector('#df-c20b0251-dbed-4949-a7fe-9d59ff7f539d');\n",
              "          const dataTable =\n",
              "            await google.colab.kernel.invokeFunction('convertToInteractive',\n",
              "                                                     [key], {});\n",
              "          if (!dataTable) return;\n",
              "\n",
              "          const docLinkHtml = 'Like what you see? Visit the ' +\n",
              "            '<a target=\"_blank\" href=https://colab.research.google.com/notebooks/data_table.ipynb>data table notebook</a>'\n",
              "            + ' to learn more about interactive tables.';\n",
              "          element.innerHTML = '';\n",
              "          dataTable['output_type'] = 'display_data';\n",
              "          await google.colab.output.renderOutput(dataTable, element);\n",
              "          const docLink = document.createElement('div');\n",
              "          docLink.innerHTML = docLinkHtml;\n",
              "          element.appendChild(docLink);\n",
              "        }\n",
              "      </script>\n",
              "    </div>\n",
              "  </div>\n",
              "  "
            ],
            "text/plain": [
              "       var1\n",
              "0  0.496714\n",
              "1 -0.138264\n",
              "2  0.647689\n",
              "3  1.523030\n",
              "4 -0.234153\n",
              "5 -0.234137\n",
              "6  1.579213\n",
              "7  0.767435\n",
              "8 -0.469474\n",
              "9  0.542560"
            ]
          },
          "metadata": {},
          "execution_count": 3
        }
      ]
    },
    {
      "cell_type": "code",
      "source": [
        "# implement sigmoid function using numpy\n",
        "z = 1/(1+np.exp(-df['var1']))\n",
        "df['var1_sigmoid'] = z"
      ],
      "metadata": {
        "id": "I2dT5c79kJrj"
      },
      "execution_count": null,
      "outputs": []
    },
    {
      "cell_type": "code",
      "source": [
        "#or\n",
        "def sigmoid(x):\n",
        "    return 1 / (1 + np.exp(-x))\n",
        " \n",
        " \n",
        "df['var1_sigmoid'] = df['var1'].apply(sigmoid)\n",
        "print(df)"
      ],
      "metadata": {
        "colab": {
          "base_uri": "https://localhost:8080/"
        },
        "id": "wBOgemMRle8k",
        "outputId": "8f9f2470-0358-4d44-a9c4-7e201d21bc36"
      },
      "execution_count": null,
      "outputs": [
        {
          "output_type": "stream",
          "name": "stdout",
          "text": [
            "       var1  var1_sigmoid\n",
            "0  0.496714      0.621687\n",
            "1 -0.138264      0.465489\n",
            "2  0.647689      0.656489\n",
            "3  1.523030      0.820984\n",
            "4 -0.234153      0.441728\n",
            "5 -0.234137      0.441732\n",
            "6  1.579213      0.829093\n",
            "7  0.767435      0.682966\n",
            "8 -0.469474      0.384741\n",
            "9  0.542560      0.632408\n"
          ]
        }
      ]
    },
    {
      "cell_type": "code",
      "source": [
        "import numpy as np\n",
        "import pandas as pd\n",
        "\n",
        "\n",
        "def entropy(x):\n",
        "    return np.round(-np.sum(x * np.log2(x)), 4)\n",
        "\n",
        "\n",
        "df = pd.DataFrame({'val_1': np.arange(0.01, 1.0, 0.1), 'val_2': 1 - np.arange(0.01, 1.0, 0.1)})\n",
        "df"
      ],
      "metadata": {
        "colab": {
          "base_uri": "https://localhost:8080/",
          "height": 363
        },
        "id": "gMu-NfrVlfsA",
        "outputId": "840f591b-491e-468f-d09d-d75c9e46e334"
      },
      "execution_count": null,
      "outputs": [
        {
          "output_type": "execute_result",
          "data": {
            "text/html": [
              "\n",
              "  <div id=\"df-4327c3ca-46a5-48b8-820b-4561ea9426f8\">\n",
              "    <div class=\"colab-df-container\">\n",
              "      <div>\n",
              "<style scoped>\n",
              "    .dataframe tbody tr th:only-of-type {\n",
              "        vertical-align: middle;\n",
              "    }\n",
              "\n",
              "    .dataframe tbody tr th {\n",
              "        vertical-align: top;\n",
              "    }\n",
              "\n",
              "    .dataframe thead th {\n",
              "        text-align: right;\n",
              "    }\n",
              "</style>\n",
              "<table border=\"1\" class=\"dataframe\">\n",
              "  <thead>\n",
              "    <tr style=\"text-align: right;\">\n",
              "      <th></th>\n",
              "      <th>val_1</th>\n",
              "      <th>val_2</th>\n",
              "    </tr>\n",
              "  </thead>\n",
              "  <tbody>\n",
              "    <tr>\n",
              "      <th>0</th>\n",
              "      <td>0.01</td>\n",
              "      <td>0.99</td>\n",
              "    </tr>\n",
              "    <tr>\n",
              "      <th>1</th>\n",
              "      <td>0.11</td>\n",
              "      <td>0.89</td>\n",
              "    </tr>\n",
              "    <tr>\n",
              "      <th>2</th>\n",
              "      <td>0.21</td>\n",
              "      <td>0.79</td>\n",
              "    </tr>\n",
              "    <tr>\n",
              "      <th>3</th>\n",
              "      <td>0.31</td>\n",
              "      <td>0.69</td>\n",
              "    </tr>\n",
              "    <tr>\n",
              "      <th>4</th>\n",
              "      <td>0.41</td>\n",
              "      <td>0.59</td>\n",
              "    </tr>\n",
              "    <tr>\n",
              "      <th>5</th>\n",
              "      <td>0.51</td>\n",
              "      <td>0.49</td>\n",
              "    </tr>\n",
              "    <tr>\n",
              "      <th>6</th>\n",
              "      <td>0.61</td>\n",
              "      <td>0.39</td>\n",
              "    </tr>\n",
              "    <tr>\n",
              "      <th>7</th>\n",
              "      <td>0.71</td>\n",
              "      <td>0.29</td>\n",
              "    </tr>\n",
              "    <tr>\n",
              "      <th>8</th>\n",
              "      <td>0.81</td>\n",
              "      <td>0.19</td>\n",
              "    </tr>\n",
              "    <tr>\n",
              "      <th>9</th>\n",
              "      <td>0.91</td>\n",
              "      <td>0.09</td>\n",
              "    </tr>\n",
              "  </tbody>\n",
              "</table>\n",
              "</div>\n",
              "      <button class=\"colab-df-convert\" onclick=\"convertToInteractive('df-4327c3ca-46a5-48b8-820b-4561ea9426f8')\"\n",
              "              title=\"Convert this dataframe to an interactive table.\"\n",
              "              style=\"display:none;\">\n",
              "        \n",
              "  <svg xmlns=\"http://www.w3.org/2000/svg\" height=\"24px\"viewBox=\"0 0 24 24\"\n",
              "       width=\"24px\">\n",
              "    <path d=\"M0 0h24v24H0V0z\" fill=\"none\"/>\n",
              "    <path d=\"M18.56 5.44l.94 2.06.94-2.06 2.06-.94-2.06-.94-.94-2.06-.94 2.06-2.06.94zm-11 1L8.5 8.5l.94-2.06 2.06-.94-2.06-.94L8.5 2.5l-.94 2.06-2.06.94zm10 10l.94 2.06.94-2.06 2.06-.94-2.06-.94-.94-2.06-.94 2.06-2.06.94z\"/><path d=\"M17.41 7.96l-1.37-1.37c-.4-.4-.92-.59-1.43-.59-.52 0-1.04.2-1.43.59L10.3 9.45l-7.72 7.72c-.78.78-.78 2.05 0 2.83L4 21.41c.39.39.9.59 1.41.59.51 0 1.02-.2 1.41-.59l7.78-7.78 2.81-2.81c.8-.78.8-2.07 0-2.86zM5.41 20L4 18.59l7.72-7.72 1.47 1.35L5.41 20z\"/>\n",
              "  </svg>\n",
              "      </button>\n",
              "      \n",
              "  <style>\n",
              "    .colab-df-container {\n",
              "      display:flex;\n",
              "      flex-wrap:wrap;\n",
              "      gap: 12px;\n",
              "    }\n",
              "\n",
              "    .colab-df-convert {\n",
              "      background-color: #E8F0FE;\n",
              "      border: none;\n",
              "      border-radius: 50%;\n",
              "      cursor: pointer;\n",
              "      display: none;\n",
              "      fill: #1967D2;\n",
              "      height: 32px;\n",
              "      padding: 0 0 0 0;\n",
              "      width: 32px;\n",
              "    }\n",
              "\n",
              "    .colab-df-convert:hover {\n",
              "      background-color: #E2EBFA;\n",
              "      box-shadow: 0px 1px 2px rgba(60, 64, 67, 0.3), 0px 1px 3px 1px rgba(60, 64, 67, 0.15);\n",
              "      fill: #174EA6;\n",
              "    }\n",
              "\n",
              "    [theme=dark] .colab-df-convert {\n",
              "      background-color: #3B4455;\n",
              "      fill: #D2E3FC;\n",
              "    }\n",
              "\n",
              "    [theme=dark] .colab-df-convert:hover {\n",
              "      background-color: #434B5C;\n",
              "      box-shadow: 0px 1px 3px 1px rgba(0, 0, 0, 0.15);\n",
              "      filter: drop-shadow(0px 1px 2px rgba(0, 0, 0, 0.3));\n",
              "      fill: #FFFFFF;\n",
              "    }\n",
              "  </style>\n",
              "\n",
              "      <script>\n",
              "        const buttonEl =\n",
              "          document.querySelector('#df-4327c3ca-46a5-48b8-820b-4561ea9426f8 button.colab-df-convert');\n",
              "        buttonEl.style.display =\n",
              "          google.colab.kernel.accessAllowed ? 'block' : 'none';\n",
              "\n",
              "        async function convertToInteractive(key) {\n",
              "          const element = document.querySelector('#df-4327c3ca-46a5-48b8-820b-4561ea9426f8');\n",
              "          const dataTable =\n",
              "            await google.colab.kernel.invokeFunction('convertToInteractive',\n",
              "                                                     [key], {});\n",
              "          if (!dataTable) return;\n",
              "\n",
              "          const docLinkHtml = 'Like what you see? Visit the ' +\n",
              "            '<a target=\"_blank\" href=https://colab.research.google.com/notebooks/data_table.ipynb>data table notebook</a>'\n",
              "            + ' to learn more about interactive tables.';\n",
              "          element.innerHTML = '';\n",
              "          dataTable['output_type'] = 'display_data';\n",
              "          await google.colab.output.renderOutput(dataTable, element);\n",
              "          const docLink = document.createElement('div');\n",
              "          docLink.innerHTML = docLinkHtml;\n",
              "          element.appendChild(docLink);\n",
              "        }\n",
              "      </script>\n",
              "    </div>\n",
              "  </div>\n",
              "  "
            ],
            "text/plain": [
              "   val_1  val_2\n",
              "0   0.01   0.99\n",
              "1   0.11   0.89\n",
              "2   0.21   0.79\n",
              "3   0.31   0.69\n",
              "4   0.41   0.59\n",
              "5   0.51   0.49\n",
              "6   0.61   0.39\n",
              "7   0.71   0.29\n",
              "8   0.81   0.19\n",
              "9   0.91   0.09"
            ]
          },
          "metadata": {},
          "execution_count": 17
        }
      ]
    },
    {
      "cell_type": "code",
      "source": [
        ""
      ],
      "metadata": {
        "id": "tTzjm9s9pxgZ"
      },
      "execution_count": null,
      "outputs": []
    },
    {
      "cell_type": "markdown",
      "source": [
        "![image.png](data:image/png;base64,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)"
      ],
      "metadata": {
        "id": "Gxrmswhgp1u4"
      }
    },
    {
      "cell_type": "code",
      "source": [
        ""
      ],
      "metadata": {
        "id": "xyLHTilop39x"
      },
      "execution_count": null,
      "outputs": []
    },
    {
      "cell_type": "code",
      "source": [
        "# find the entropy of both \n",
        "for row in df.iterrows():\n",
        "  print([row[1][0], row[1][1]])"
      ],
      "metadata": {
        "colab": {
          "base_uri": "https://localhost:8080/"
        },
        "id": "7RnBf1sgodsA",
        "outputId": "3087fec9-ea74-4a65-f228-65db64c72a3d"
      },
      "execution_count": null,
      "outputs": [
        {
          "output_type": "stream",
          "name": "stdout",
          "text": [
            "[0.01, 0.99]\n",
            "[0.11, 0.89]\n",
            "[0.21000000000000002, 0.79]\n",
            "[0.31000000000000005, 0.69]\n",
            "[0.41000000000000003, 0.59]\n",
            "[0.51, 0.49]\n",
            "[0.6100000000000001, 0.3899999999999999]\n",
            "[0.7100000000000001, 0.2899999999999999]\n",
            "[0.81, 0.18999999999999995]\n",
            "[0.91, 0.08999999999999997]\n"
          ]
        }
      ]
    },
    {
      "cell_type": "code",
      "source": [
        "df['entropy'] = [entropy([row[1][0], row[1][1]]) for row in df.iterrows()]\n",
        "df"
      ],
      "metadata": {
        "colab": {
          "base_uri": "https://localhost:8080/",
          "height": 363
        },
        "id": "vBGKY3q3pP7-",
        "outputId": "1cfc5d5b-3cfd-40e4-faa2-dae5253103a3"
      },
      "execution_count": null,
      "outputs": [
        {
          "output_type": "execute_result",
          "data": {
            "text/html": [
              "\n",
              "  <div id=\"df-52f7b5a0-ad3a-4699-afa4-d343d41b592a\">\n",
              "    <div class=\"colab-df-container\">\n",
              "      <div>\n",
              "<style scoped>\n",
              "    .dataframe tbody tr th:only-of-type {\n",
              "        vertical-align: middle;\n",
              "    }\n",
              "\n",
              "    .dataframe tbody tr th {\n",
              "        vertical-align: top;\n",
              "    }\n",
              "\n",
              "    .dataframe thead th {\n",
              "        text-align: right;\n",
              "    }\n",
              "</style>\n",
              "<table border=\"1\" class=\"dataframe\">\n",
              "  <thead>\n",
              "    <tr style=\"text-align: right;\">\n",
              "      <th></th>\n",
              "      <th>val_1</th>\n",
              "      <th>val_2</th>\n",
              "      <th>entropy</th>\n",
              "    </tr>\n",
              "  </thead>\n",
              "  <tbody>\n",
              "    <tr>\n",
              "      <th>0</th>\n",
              "      <td>0.01</td>\n",
              "      <td>0.99</td>\n",
              "      <td>0.0808</td>\n",
              "    </tr>\n",
              "    <tr>\n",
              "      <th>1</th>\n",
              "      <td>0.11</td>\n",
              "      <td>0.89</td>\n",
              "      <td>0.4999</td>\n",
              "    </tr>\n",
              "    <tr>\n",
              "      <th>2</th>\n",
              "      <td>0.21</td>\n",
              "      <td>0.79</td>\n",
              "      <td>0.7415</td>\n",
              "    </tr>\n",
              "    <tr>\n",
              "      <th>3</th>\n",
              "      <td>0.31</td>\n",
              "      <td>0.69</td>\n",
              "      <td>0.8932</td>\n",
              "    </tr>\n",
              "    <tr>\n",
              "      <th>4</th>\n",
              "      <td>0.41</td>\n",
              "      <td>0.59</td>\n",
              "      <td>0.9765</td>\n",
              "    </tr>\n",
              "    <tr>\n",
              "      <th>5</th>\n",
              "      <td>0.51</td>\n",
              "      <td>0.49</td>\n",
              "      <td>0.9997</td>\n",
              "    </tr>\n",
              "    <tr>\n",
              "      <th>6</th>\n",
              "      <td>0.61</td>\n",
              "      <td>0.39</td>\n",
              "      <td>0.9648</td>\n",
              "    </tr>\n",
              "    <tr>\n",
              "      <th>7</th>\n",
              "      <td>0.71</td>\n",
              "      <td>0.29</td>\n",
              "      <td>0.8687</td>\n",
              "    </tr>\n",
              "    <tr>\n",
              "      <th>8</th>\n",
              "      <td>0.81</td>\n",
              "      <td>0.19</td>\n",
              "      <td>0.7015</td>\n",
              "    </tr>\n",
              "    <tr>\n",
              "      <th>9</th>\n",
              "      <td>0.91</td>\n",
              "      <td>0.09</td>\n",
              "      <td>0.4365</td>\n",
              "    </tr>\n",
              "  </tbody>\n",
              "</table>\n",
              "</div>\n",
              "      <button class=\"colab-df-convert\" onclick=\"convertToInteractive('df-52f7b5a0-ad3a-4699-afa4-d343d41b592a')\"\n",
              "              title=\"Convert this dataframe to an interactive table.\"\n",
              "              style=\"display:none;\">\n",
              "        \n",
              "  <svg xmlns=\"http://www.w3.org/2000/svg\" height=\"24px\"viewBox=\"0 0 24 24\"\n",
              "       width=\"24px\">\n",
              "    <path d=\"M0 0h24v24H0V0z\" fill=\"none\"/>\n",
              "    <path d=\"M18.56 5.44l.94 2.06.94-2.06 2.06-.94-2.06-.94-.94-2.06-.94 2.06-2.06.94zm-11 1L8.5 8.5l.94-2.06 2.06-.94-2.06-.94L8.5 2.5l-.94 2.06-2.06.94zm10 10l.94 2.06.94-2.06 2.06-.94-2.06-.94-.94-2.06-.94 2.06-2.06.94z\"/><path d=\"M17.41 7.96l-1.37-1.37c-.4-.4-.92-.59-1.43-.59-.52 0-1.04.2-1.43.59L10.3 9.45l-7.72 7.72c-.78.78-.78 2.05 0 2.83L4 21.41c.39.39.9.59 1.41.59.51 0 1.02-.2 1.41-.59l7.78-7.78 2.81-2.81c.8-.78.8-2.07 0-2.86zM5.41 20L4 18.59l7.72-7.72 1.47 1.35L5.41 20z\"/>\n",
              "  </svg>\n",
              "      </button>\n",
              "      \n",
              "  <style>\n",
              "    .colab-df-container {\n",
              "      display:flex;\n",
              "      flex-wrap:wrap;\n",
              "      gap: 12px;\n",
              "    }\n",
              "\n",
              "    .colab-df-convert {\n",
              "      background-color: #E8F0FE;\n",
              "      border: none;\n",
              "      border-radius: 50%;\n",
              "      cursor: pointer;\n",
              "      display: none;\n",
              "      fill: #1967D2;\n",
              "      height: 32px;\n",
              "      padding: 0 0 0 0;\n",
              "      width: 32px;\n",
              "    }\n",
              "\n",
              "    .colab-df-convert:hover {\n",
              "      background-color: #E2EBFA;\n",
              "      box-shadow: 0px 1px 2px rgba(60, 64, 67, 0.3), 0px 1px 3px 1px rgba(60, 64, 67, 0.15);\n",
              "      fill: #174EA6;\n",
              "    }\n",
              "\n",
              "    [theme=dark] .colab-df-convert {\n",
              "      background-color: #3B4455;\n",
              "      fill: #D2E3FC;\n",
              "    }\n",
              "\n",
              "    [theme=dark] .colab-df-convert:hover {\n",
              "      background-color: #434B5C;\n",
              "      box-shadow: 0px 1px 3px 1px rgba(0, 0, 0, 0.15);\n",
              "      filter: drop-shadow(0px 1px 2px rgba(0, 0, 0, 0.3));\n",
              "      fill: #FFFFFF;\n",
              "    }\n",
              "  </style>\n",
              "\n",
              "      <script>\n",
              "        const buttonEl =\n",
              "          document.querySelector('#df-52f7b5a0-ad3a-4699-afa4-d343d41b592a button.colab-df-convert');\n",
              "        buttonEl.style.display =\n",
              "          google.colab.kernel.accessAllowed ? 'block' : 'none';\n",
              "\n",
              "        async function convertToInteractive(key) {\n",
              "          const element = document.querySelector('#df-52f7b5a0-ad3a-4699-afa4-d343d41b592a');\n",
              "          const dataTable =\n",
              "            await google.colab.kernel.invokeFunction('convertToInteractive',\n",
              "                                                     [key], {});\n",
              "          if (!dataTable) return;\n",
              "\n",
              "          const docLinkHtml = 'Like what you see? Visit the ' +\n",
              "            '<a target=\"_blank\" href=https://colab.research.google.com/notebooks/data_table.ipynb>data table notebook</a>'\n",
              "            + ' to learn more about interactive tables.';\n",
              "          element.innerHTML = '';\n",
              "          dataTable['output_type'] = 'display_data';\n",
              "          await google.colab.output.renderOutput(dataTable, element);\n",
              "          const docLink = document.createElement('div');\n",
              "          docLink.innerHTML = docLinkHtml;\n",
              "          element.appendChild(docLink);\n",
              "        }\n",
              "      </script>\n",
              "    </div>\n",
              "  </div>\n",
              "  "
            ],
            "text/plain": [
              "   val_1  val_2  entropy\n",
              "0   0.01   0.99   0.0808\n",
              "1   0.11   0.89   0.4999\n",
              "2   0.21   0.79   0.7415\n",
              "3   0.31   0.69   0.8932\n",
              "4   0.41   0.59   0.9765\n",
              "5   0.51   0.49   0.9997\n",
              "6   0.61   0.39   0.9648\n",
              "7   0.71   0.29   0.8687\n",
              "8   0.81   0.19   0.7015\n",
              "9   0.91   0.09   0.4365"
            ]
          },
          "metadata": {},
          "execution_count": 18
        }
      ]
    },
    {
      "cell_type": "code",
      "source": [
        "import numpy as np\n",
        "import pandas as pd\n",
        "\n",
        "from sklearn.datasets import make_moons\n",
        "from sklearn.model_selection import train_test_split\n",
        "from sklearn.tree import DecisionTreeClassifier\n",
        "\n",
        "\n",
        "np.random.seed(42)\n",
        "raw_data = make_moons(n_samples=2000, noise=0.25, random_state=42)\n",
        "data = raw_data[0]\n",
        "target = raw_data[1]\n",
        "\n",
        "X_train, X_test, y_train, y_test = train_test_split(data, target)"
      ],
      "metadata": {
        "id": "ynvzoggKp8f3"
      },
      "execution_count": 19,
      "outputs": []
    },
    {
      "cell_type": "code",
      "source": [
        "# create a decision tree classifier \n",
        "tree = DecisionTreeClassifier(random_state = 0)\n",
        "tree.fit(X_train, y_train)"
      ],
      "metadata": {
        "colab": {
          "base_uri": "https://localhost:8080/"
        },
        "id": "mVSaJzUerful",
        "outputId": "11a06856-6e75-4227-bde2-9e57c29f07d9"
      },
      "execution_count": 25,
      "outputs": [
        {
          "output_type": "execute_result",
          "data": {
            "text/plain": [
              "DecisionTreeClassifier(random_state=0)"
            ]
          },
          "metadata": {},
          "execution_count": 25
        }
      ]
    },
    {
      "cell_type": "code",
      "source": [
        "tree.predict(X_test)"
      ],
      "metadata": {
        "colab": {
          "base_uri": "https://localhost:8080/"
        },
        "id": "jxTilPfkr6PK",
        "outputId": "031adae3-4add-46be-fd95-e372471724d4"
      },
      "execution_count": 26,
      "outputs": [
        {
          "output_type": "execute_result",
          "data": {
            "text/plain": [
              "array([1, 1, 0, 1, 1, 1, 0, 0, 1, 1, 1, 0, 1, 0, 1, 1, 0, 1, 1, 1, 0, 1,\n",
              "       1, 0, 1, 1, 0, 1, 0, 1, 0, 0, 1, 1, 0, 0, 0, 1, 0, 1, 1, 0, 0, 0,\n",
              "       1, 0, 0, 1, 1, 1, 0, 1, 1, 0, 0, 1, 0, 0, 0, 0, 1, 0, 1, 0, 0, 0,\n",
              "       1, 0, 1, 0, 1, 1, 1, 1, 0, 0, 1, 0, 1, 0, 1, 0, 0, 0, 0, 0, 0, 0,\n",
              "       1, 1, 1, 0, 1, 1, 0, 1, 1, 0, 1, 1, 0, 1, 1, 0, 0, 0, 1, 0, 0, 1,\n",
              "       1, 1, 0, 0, 1, 0, 1, 0, 1, 1, 0, 0, 1, 0, 0, 1, 0, 1, 1, 1, 1, 1,\n",
              "       0, 1, 0, 0, 1, 1, 1, 0, 0, 1, 1, 1, 0, 0, 1, 1, 1, 1, 0, 1, 1, 1,\n",
              "       1, 1, 0, 1, 0, 1, 0, 0, 1, 1, 0, 0, 1, 1, 0, 0, 0, 1, 0, 1, 0, 1,\n",
              "       0, 0, 0, 0, 0, 0, 0, 1, 1, 0, 0, 0, 1, 1, 0, 0, 1, 0, 1, 0, 1, 1,\n",
              "       1, 0, 1, 0, 1, 1, 0, 0, 0, 1, 0, 0, 1, 1, 0, 1, 1, 1, 0, 0, 0, 0,\n",
              "       1, 1, 1, 0, 1, 0, 0, 0, 0, 0, 1, 0, 1, 1, 1, 0, 0, 0, 0, 0, 0, 1,\n",
              "       0, 1, 1, 0, 1, 0, 0, 0, 0, 1, 0, 1, 0, 0, 1, 0, 0, 0, 0, 1, 0, 0,\n",
              "       0, 1, 0, 0, 0, 1, 0, 1, 0, 1, 0, 0, 1, 1, 1, 0, 0, 1, 0, 0, 1, 0,\n",
              "       1, 0, 1, 0, 0, 1, 1, 1, 0, 1, 0, 1, 1, 1, 0, 0, 0, 0, 0, 0, 0, 0,\n",
              "       1, 0, 1, 1, 0, 1, 1, 1, 0, 0, 0, 0, 1, 1, 0, 1, 0, 1, 0, 1, 1, 1,\n",
              "       0, 1, 1, 0, 0, 1, 0, 0, 1, 1, 1, 0, 0, 0, 1, 0, 0, 0, 1, 1, 1, 0,\n",
              "       0, 0, 0, 0, 1, 1, 1, 1, 1, 0, 1, 1, 1, 0, 0, 0, 0, 0, 1, 1, 1, 0,\n",
              "       1, 1, 1, 1, 1, 1, 1, 1, 1, 1, 0, 1, 0, 1, 1, 0, 1, 0, 1, 0, 0, 1,\n",
              "       0, 1, 1, 1, 0, 0, 1, 0, 0, 1, 1, 0, 0, 0, 0, 1, 0, 1, 0, 1, 1, 0,\n",
              "       0, 1, 1, 1, 0, 1, 1, 1, 0, 1, 1, 1, 1, 1, 1, 1, 1, 0, 1, 0, 0, 1,\n",
              "       1, 1, 0, 1, 0, 0, 0, 0, 0, 1, 0, 1, 1, 1, 1, 1, 1, 0, 1, 0, 1, 0,\n",
              "       0, 0, 1, 1, 0, 1, 1, 1, 0, 1, 1, 0, 1, 0, 1, 1, 1, 1, 1, 1, 0, 0,\n",
              "       0, 0, 0, 1, 0, 0, 0, 1, 0, 0, 1, 1, 1, 1, 0, 1])"
            ]
          },
          "metadata": {},
          "execution_count": 26
        }
      ]
    },
    {
      "cell_type": "code",
      "source": [
        "np.round(tree.score(X_test, y_test),4)"
      ],
      "metadata": {
        "colab": {
          "base_uri": "https://localhost:8080/"
        },
        "id": "Z1zI54hAsJqL",
        "outputId": "615250f8-f370-435e-b89a-b98190d5e3ed"
      },
      "execution_count": 28,
      "outputs": [
        {
          "output_type": "execute_result",
          "data": {
            "text/plain": [
              "0.904"
            ]
          },
          "metadata": {},
          "execution_count": 28
        }
      ]
    },
    {
      "cell_type": "code",
      "source": [
        "import numpy as np\n",
        "import pandas as pd\n",
        "\n",
        "from sklearn.datasets import make_moons\n",
        "from sklearn.model_selection import train_test_split\n",
        "from sklearn.tree import DecisionTreeClassifier\n",
        "\n",
        "\n",
        "np.random.seed(42)\n",
        "raw_data = make_moons(n_samples=2000, noise=0.25, random_state=42)\n",
        "data = raw_data[0]\n",
        "target = raw_data[1]\n",
        "\n",
        "X_train, X_test, y_train, y_test = train_test_split(data, target)"
      ],
      "metadata": {
        "id": "1TLd6mS2y7vH"
      },
      "execution_count": 29,
      "outputs": []
    },
    {
      "cell_type": "code",
      "source": [
        "clf = DecisionTreeClassifier(max_depth = 6)\n",
        "clf.fit(X_train, y_train)\n",
        "print(\"Accuracy: {:.4f}\".format(clf.score(X_test, y_test)))\n"
      ],
      "metadata": {
        "colab": {
          "base_uri": "https://localhost:8080/"
        },
        "id": "fsaBfpCOy8vh",
        "outputId": "67517398-3387-4e90-95e6-4c941e2900f5"
      },
      "execution_count": 32,
      "outputs": [
        {
          "output_type": "stream",
          "name": "stdout",
          "text": [
            "Accuracy: 0.9280\n"
          ]
        }
      ]
    },
    {
      "cell_type": "code",
      "source": [
        "import numpy as np\n",
        "import pandas as pd\n",
        "\n",
        "from sklearn.datasets import make_moons\n",
        "from sklearn.model_selection import train_test_split\n",
        "from sklearn.tree import DecisionTreeClassifier\n",
        "\n",
        "\n",
        "np.random.seed(42)\n",
        "raw_data = make_moons(n_samples=2000, noise=0.25, random_state=42)\n",
        "data = raw_data[0]\n",
        "target = raw_data[1]\n",
        "\n",
        "X_train, X_test, y_train, y_test = train_test_split(data, target)"
      ],
      "metadata": {
        "id": "80u5CcEHzlPv"
      },
      "execution_count": 33,
      "outputs": []
    },
    {
      "cell_type": "code",
      "source": [
        "clf = DecisionTreeClassifier(max_depth = 6, min_samples_leaf= 6 )\n",
        "clf.fit(X_train, y_train)\n",
        "print(\"Accuracy: {:.4f}\".format(clf.score(X_test, y_test)))"
      ],
      "metadata": {
        "colab": {
          "base_uri": "https://localhost:8080/"
        },
        "id": "qUCISgOAzl0b",
        "outputId": "ec4bd420-f6c4-4e26-fee1-a8f43ee8fccf"
      },
      "execution_count": 34,
      "outputs": [
        {
          "output_type": "stream",
          "name": "stdout",
          "text": [
            "Accuracy: 0.9300\n"
          ]
        }
      ]
    }
  ]
}